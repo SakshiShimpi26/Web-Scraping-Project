{
  "nbformat": 4,
  "nbformat_minor": 0,
  "metadata": {
    "colab": {
      "provenance": []
    },
    "kernelspec": {
      "name": "python3",
      "display_name": "Python 3"
    },
    "language_info": {
      "name": "python"
    }
  },
  "cells": [
    {
      "cell_type": "code",
      "source": [
        "from google.colab import drive\n",
        "drive.mount('/content/drive')"
      ],
      "metadata": {
        "colab": {
          "base_uri": "https://localhost:8080/"
        },
        "id": "fDiLxaf9DT7W",
        "outputId": "3ae00141-8573-49bc-9c22-3b5f6515a3a2"
      },
      "execution_count": null,
      "outputs": [
        {
          "output_type": "stream",
          "name": "stdout",
          "text": [
            "Drive already mounted at /content/drive; to attempt to forcibly remount, call drive.mount(\"/content/drive\", force_remount=True).\n"
          ]
        }
      ]
    },
    {
      "cell_type": "code",
      "source": [
        "import pandas as pd\n",
        "import os\n",
        "import csv\n",
        "import requests \n",
        "import re\n",
        "from bs4 import BeautifulSoup"
      ],
      "metadata": {
        "id": "Hv10lzU0_nXq"
      },
      "execution_count": null,
      "outputs": []
    },
    {
      "cell_type": "code",
      "source": [
        "dataframe=pd.read_excel('/content/drive/MyDrive/Web Scraping Assignment (1).xlsx')\n",
        "dataframe"
      ],
      "metadata": {
        "colab": {
          "base_uri": "https://localhost:8080/",
          "height": 572
        },
        "id": "zFynEY3nDyqL",
        "outputId": "7193ff7a-3815-499d-a417-d8de1b71dfa9"
      },
      "execution_count": null,
      "outputs": [
        {
          "output_type": "execute_result",
          "data": {
            "text/plain": [
              "     Unnamed: 0                                       COLLEGE NAME  \\\n",
              "0           1.0           Academy Of Management Studies, Hyderabad   \n",
              "1           2.0             Academy Of Mass Communication, Lucknow   \n",
              "2           3.0  Acharaya Shri Chander College Of Medical Scien...   \n",
              "3           4.0  Acharya Institutes of Science & Management, Ba...   \n",
              "4           5.0  Acharya Panth Shri GMNS Government College, Ka...   \n",
              "..          ...                                                ...   \n",
              "517         NaN                                                NaN   \n",
              "518         NaN                                                NaN   \n",
              "519         NaN                                                NaN   \n",
              "520         NaN                                                NaN   \n",
              "521         NaN                                                NaN   \n",
              "\n",
              "                              COLLEGE LINKS  \\\n",
              "0                                       NaN   \n",
              "1                                       NaN   \n",
              "2                                       NaN   \n",
              "3                                       NaN   \n",
              "4                                       NaN   \n",
              "..                                      ...   \n",
              "517           http://www.btcstagartala.org/   \n",
              "518                   https://www.btcte.in/   \n",
              "519                     https://bit.edu.in/   \n",
              "520     https://biharcollegeofpharmacy.com/   \n",
              "521  http://www.bijanbaridegreecollege.org/   \n",
              "\n",
              "                                                ADRESS  \\\n",
              "0    2nd Floor, Manzil Chambers,Mehdipatnam X Roads...   \n",
              "1                                                  NaN   \n",
              "2    Bye Pass Road, Sidhra, Jammu 180017,Jammu & Ka...   \n",
              "3    Acharya Institutes\\nAcharya Dr. S. Radhakrishn...   \n",
              "4    ACHARYA PANTH SHRI GRINDH MUNI NAAM SAHEB GOVT...   \n",
              "..                                                 ...   \n",
              "517                                                NaN   \n",
              "518                                                NaN   \n",
              "519                                                NaN   \n",
              "520                                                NaN   \n",
              "521                                                NaN   \n",
              "\n",
              "                                            Unnamed: 4  \n",
              "0    2nd Floor, Manzil Chambers,Mehdipatnam X Roads...  \n",
              "1                                                  NaN  \n",
              "2    Bye Pass Road, Sidhra, Jammu 180017,Jammu & Ka...  \n",
              "3    Acharya Institutes\\nAcharya Dr. S. Radhakrishn...  \n",
              "4    ACHARYA PANTH SHRI GRINDH MUNI NAAM SAHEB GOVT...  \n",
              "..                                                 ...  \n",
              "517                                                NaN  \n",
              "518                                                NaN  \n",
              "519                                                NaN  \n",
              "520                                                NaN  \n",
              "521                                                NaN  \n",
              "\n",
              "[522 rows x 5 columns]"
            ],
            "text/html": [
              "\n",
              "  <div id=\"df-6d5c0bf6-db38-493c-92d0-3626d79e93f5\">\n",
              "    <div class=\"colab-df-container\">\n",
              "      <div>\n",
              "<style scoped>\n",
              "    .dataframe tbody tr th:only-of-type {\n",
              "        vertical-align: middle;\n",
              "    }\n",
              "\n",
              "    .dataframe tbody tr th {\n",
              "        vertical-align: top;\n",
              "    }\n",
              "\n",
              "    .dataframe thead th {\n",
              "        text-align: right;\n",
              "    }\n",
              "</style>\n",
              "<table border=\"1\" class=\"dataframe\">\n",
              "  <thead>\n",
              "    <tr style=\"text-align: right;\">\n",
              "      <th></th>\n",
              "      <th>Unnamed: 0</th>\n",
              "      <th>COLLEGE NAME</th>\n",
              "      <th>COLLEGE LINKS</th>\n",
              "      <th>ADRESS</th>\n",
              "      <th>Unnamed: 4</th>\n",
              "    </tr>\n",
              "  </thead>\n",
              "  <tbody>\n",
              "    <tr>\n",
              "      <th>0</th>\n",
              "      <td>1.0</td>\n",
              "      <td>Academy Of Management Studies, Hyderabad</td>\n",
              "      <td>NaN</td>\n",
              "      <td>2nd Floor, Manzil Chambers,Mehdipatnam X Roads...</td>\n",
              "      <td>2nd Floor, Manzil Chambers,Mehdipatnam X Roads...</td>\n",
              "    </tr>\n",
              "    <tr>\n",
              "      <th>1</th>\n",
              "      <td>2.0</td>\n",
              "      <td>Academy Of Mass Communication, Lucknow</td>\n",
              "      <td>NaN</td>\n",
              "      <td>NaN</td>\n",
              "      <td>NaN</td>\n",
              "    </tr>\n",
              "    <tr>\n",
              "      <th>2</th>\n",
              "      <td>3.0</td>\n",
              "      <td>Acharaya Shri Chander College Of Medical Scien...</td>\n",
              "      <td>NaN</td>\n",
              "      <td>Bye Pass Road, Sidhra, Jammu 180017,Jammu &amp; Ka...</td>\n",
              "      <td>Bye Pass Road, Sidhra, Jammu 180017,Jammu &amp; Ka...</td>\n",
              "    </tr>\n",
              "    <tr>\n",
              "      <th>3</th>\n",
              "      <td>4.0</td>\n",
              "      <td>Acharya Institutes of Science &amp; Management, Ba...</td>\n",
              "      <td>NaN</td>\n",
              "      <td>Acharya Institutes\\nAcharya Dr. S. Radhakrishn...</td>\n",
              "      <td>Acharya Institutes\\nAcharya Dr. S. Radhakrishn...</td>\n",
              "    </tr>\n",
              "    <tr>\n",
              "      <th>4</th>\n",
              "      <td>5.0</td>\n",
              "      <td>Acharya Panth Shri GMNS Government College, Ka...</td>\n",
              "      <td>NaN</td>\n",
              "      <td>ACHARYA PANTH SHRI GRINDH MUNI NAAM SAHEB GOVT...</td>\n",
              "      <td>ACHARYA PANTH SHRI GRINDH MUNI NAAM SAHEB GOVT...</td>\n",
              "    </tr>\n",
              "    <tr>\n",
              "      <th>...</th>\n",
              "      <td>...</td>\n",
              "      <td>...</td>\n",
              "      <td>...</td>\n",
              "      <td>...</td>\n",
              "      <td>...</td>\n",
              "    </tr>\n",
              "    <tr>\n",
              "      <th>517</th>\n",
              "      <td>NaN</td>\n",
              "      <td>NaN</td>\n",
              "      <td>http://www.btcstagartala.org/</td>\n",
              "      <td>NaN</td>\n",
              "      <td>NaN</td>\n",
              "    </tr>\n",
              "    <tr>\n",
              "      <th>518</th>\n",
              "      <td>NaN</td>\n",
              "      <td>NaN</td>\n",
              "      <td>https://www.btcte.in/</td>\n",
              "      <td>NaN</td>\n",
              "      <td>NaN</td>\n",
              "    </tr>\n",
              "    <tr>\n",
              "      <th>519</th>\n",
              "      <td>NaN</td>\n",
              "      <td>NaN</td>\n",
              "      <td>https://bit.edu.in/</td>\n",
              "      <td>NaN</td>\n",
              "      <td>NaN</td>\n",
              "    </tr>\n",
              "    <tr>\n",
              "      <th>520</th>\n",
              "      <td>NaN</td>\n",
              "      <td>NaN</td>\n",
              "      <td>https://biharcollegeofpharmacy.com/</td>\n",
              "      <td>NaN</td>\n",
              "      <td>NaN</td>\n",
              "    </tr>\n",
              "    <tr>\n",
              "      <th>521</th>\n",
              "      <td>NaN</td>\n",
              "      <td>NaN</td>\n",
              "      <td>http://www.bijanbaridegreecollege.org/</td>\n",
              "      <td>NaN</td>\n",
              "      <td>NaN</td>\n",
              "    </tr>\n",
              "  </tbody>\n",
              "</table>\n",
              "<p>522 rows × 5 columns</p>\n",
              "</div>\n",
              "      <button class=\"colab-df-convert\" onclick=\"convertToInteractive('df-6d5c0bf6-db38-493c-92d0-3626d79e93f5')\"\n",
              "              title=\"Convert this dataframe to an interactive table.\"\n",
              "              style=\"display:none;\">\n",
              "        \n",
              "  <svg xmlns=\"http://www.w3.org/2000/svg\" height=\"24px\"viewBox=\"0 0 24 24\"\n",
              "       width=\"24px\">\n",
              "    <path d=\"M0 0h24v24H0V0z\" fill=\"none\"/>\n",
              "    <path d=\"M18.56 5.44l.94 2.06.94-2.06 2.06-.94-2.06-.94-.94-2.06-.94 2.06-2.06.94zm-11 1L8.5 8.5l.94-2.06 2.06-.94-2.06-.94L8.5 2.5l-.94 2.06-2.06.94zm10 10l.94 2.06.94-2.06 2.06-.94-2.06-.94-.94-2.06-.94 2.06-2.06.94z\"/><path d=\"M17.41 7.96l-1.37-1.37c-.4-.4-.92-.59-1.43-.59-.52 0-1.04.2-1.43.59L10.3 9.45l-7.72 7.72c-.78.78-.78 2.05 0 2.83L4 21.41c.39.39.9.59 1.41.59.51 0 1.02-.2 1.41-.59l7.78-7.78 2.81-2.81c.8-.78.8-2.07 0-2.86zM5.41 20L4 18.59l7.72-7.72 1.47 1.35L5.41 20z\"/>\n",
              "  </svg>\n",
              "      </button>\n",
              "      \n",
              "  <style>\n",
              "    .colab-df-container {\n",
              "      display:flex;\n",
              "      flex-wrap:wrap;\n",
              "      gap: 12px;\n",
              "    }\n",
              "\n",
              "    .colab-df-convert {\n",
              "      background-color: #E8F0FE;\n",
              "      border: none;\n",
              "      border-radius: 50%;\n",
              "      cursor: pointer;\n",
              "      display: none;\n",
              "      fill: #1967D2;\n",
              "      height: 32px;\n",
              "      padding: 0 0 0 0;\n",
              "      width: 32px;\n",
              "    }\n",
              "\n",
              "    .colab-df-convert:hover {\n",
              "      background-color: #E2EBFA;\n",
              "      box-shadow: 0px 1px 2px rgba(60, 64, 67, 0.3), 0px 1px 3px 1px rgba(60, 64, 67, 0.15);\n",
              "      fill: #174EA6;\n",
              "    }\n",
              "\n",
              "    [theme=dark] .colab-df-convert {\n",
              "      background-color: #3B4455;\n",
              "      fill: #D2E3FC;\n",
              "    }\n",
              "\n",
              "    [theme=dark] .colab-df-convert:hover {\n",
              "      background-color: #434B5C;\n",
              "      box-shadow: 0px 1px 3px 1px rgba(0, 0, 0, 0.15);\n",
              "      filter: drop-shadow(0px 1px 2px rgba(0, 0, 0, 0.3));\n",
              "      fill: #FFFFFF;\n",
              "    }\n",
              "  </style>\n",
              "\n",
              "      <script>\n",
              "        const buttonEl =\n",
              "          document.querySelector('#df-6d5c0bf6-db38-493c-92d0-3626d79e93f5 button.colab-df-convert');\n",
              "        buttonEl.style.display =\n",
              "          google.colab.kernel.accessAllowed ? 'block' : 'none';\n",
              "\n",
              "        async function convertToInteractive(key) {\n",
              "          const element = document.querySelector('#df-6d5c0bf6-db38-493c-92d0-3626d79e93f5');\n",
              "          const dataTable =\n",
              "            await google.colab.kernel.invokeFunction('convertToInteractive',\n",
              "                                                     [key], {});\n",
              "          if (!dataTable) return;\n",
              "\n",
              "          const docLinkHtml = 'Like what you see? Visit the ' +\n",
              "            '<a target=\"_blank\" href=https://colab.research.google.com/notebooks/data_table.ipynb>data table notebook</a>'\n",
              "            + ' to learn more about interactive tables.';\n",
              "          element.innerHTML = '';\n",
              "          dataTable['output_type'] = 'display_data';\n",
              "          await google.colab.output.renderOutput(dataTable, element);\n",
              "          const docLink = document.createElement('div');\n",
              "          docLink.innerHTML = docLinkHtml;\n",
              "          element.appendChild(docLink);\n",
              "        }\n",
              "      </script>\n",
              "    </div>\n",
              "  </div>\n",
              "  "
            ]
          },
          "metadata": {},
          "execution_count": 98
        }
      ]
    },
    {
      "cell_type": "code",
      "source": [
        "collegeNames=dataframe['COLLEGE NAME']\n",
        "collegeNames=collegeNames[100:201]\n",
        "print(\"########################### COLLEGE NAMES ############################\")\n",
        "print(collegeNames)\n",
        "print()\n",
        "\n",
        "collegeLinks=dataframe['COLLEGE LINKS']\n",
        "collegeLinks=collegeLinks[100:201]\n",
        "print(\"########################### COLLEGE LINKS ############################\")\n",
        "print(collegeLinks)\n",
        "print()\n",
        "\n",
        "mappedNameAndLink=list(zip(collegeNames,collegeLinks))\n",
        "print(\"########################### COLLEGE NAMES and LINKS MAPPED ############################\")\n",
        "print(mappedNameAndLink)\n",
        "\n",
        "f=open(\"/content/drive/MyDrive/Web Scraping Excel File/finalData.csv\",\"a\",newline=\"\")\n",
        "a=csv.writer(f)\n",
        "\n",
        "a.writerow([\"COLLEGE NAME\",\"COLLEGE LINK\",\"COLLEGE ADDRESS\",\"PRINCIPAL NAME\"])\n"
      ],
      "metadata": {
        "colab": {
          "base_uri": "https://localhost:8080/"
        },
        "id": "M4i9YRjl3X6V",
        "outputId": "8b9cd173-aeed-49be-e6d8-f3e5d220abe0"
      },
      "execution_count": null,
      "outputs": [
        {
          "output_type": "stream",
          "name": "stdout",
          "text": [
            "########################### COLLEGE NAMES ############################\n",
            "100             Christu Jayanthi Jubilee College, Guntur\n",
            "101                      Cluny Womens College, Kalimpong\n",
            "102    CMR Institute of Management and Technology, Ba...\n",
            "103    College Of Agricultural Engineering And Post H...\n",
            "104       College of Agricultural Engineering, Anantapur\n",
            "                             ...                        \n",
            "196    Geethanjali Institute of Science and Technolog...\n",
            "197         Ghoom Jorebunglow Degree College, Darjeeling\n",
            "198    Global Tech Institute Of Management GTIM, New ...\n",
            "199                          GMR Institute of Technology\n",
            "200                  Goa College Of Architecture, Panaji\n",
            "Name: COLLEGE NAME, Length: 101, dtype: object\n",
            "\n",
            "########################### COLLEGE LINKS ############################\n",
            "100         http://www.cjjpgcollege.ac.in/\n",
            "101           http://www.clunycollege.com/\n",
            "102                 https://ims.cmr.ac.in/\n",
            "103            http://www.caephtcau.ac.in/\n",
            "104        http://www.caemadakasira.ac.in/\n",
            "                      ...                 \n",
            "196                http://www.gist.edu.in/\n",
            "197    http://ghoomjorebunglowcollege.com/\n",
            "198                   https://gtim.edu.in/\n",
            "199                  http://www.gmrit.org/\n",
            "200         https://www.gcarch.goa.gov.in/\n",
            "Name: COLLEGE LINKS, Length: 101, dtype: object\n",
            "\n",
            "########################### COLLEGE NAMES and LINKS MAPPED ############################\n",
            "[('Christu Jayanthi Jubilee College, Guntur', 'http://www.cjjpgcollege.ac.in/'), ('Cluny Womens College, Kalimpong', 'http://www.clunycollege.com/'), ('CMR Institute of Management and Technology, Bangalore', 'https://ims.cmr.ac.in/'), ('College Of Agricultural Engineering And Post Harvest Technology CAE&PHT, Gangtok', 'http://www.caephtcau.ac.in/'), ('College of Agricultural Engineering, Anantapur', 'http://www.caemadakasira.ac.in/'), ('College Of Fisheries CF, Agartala', 'http://cofcau.nic.in/'), ('College Of Horticulture And Forestry CH&F, Pasighat', 'http://www.chfcau.org.in/'), ('College of Science and Technology, Andhra University, Visakhapatnam', 'https://andhrauniversity.edu.in/'), ('College Of Teacher Education, Tura', 'https://ctetura.edu.in/'), ('College Of Technology And Engineering, Udaipur', 'https://www.ctae.ac.in/'), ('College Of Veterinary Science And Animal Husbandry CVS&AH, Aizawl', 'https://www.cvsccauaizawl.edu.in/'), ('Colonel Degree College for Women, Chural Kalan', 'http://www.colonelinstitutes.com/degree'), ('CSTS Government Degree College, West Godavari', 'https://www.cstsgk.ac.in/'), ('CZ Patel College Of Business & Management, Anand', 'http://www.czp.edu.in/'), ('Dadi Satyanarayana College of Education, Anakapalle', 'http://www.dsnce.diet.edu.in/'), ('Dadi Veerunaidu PG College (DVNPGC), Anakapalle', 'https://www.indcareer.com/andhra-pradesh/visakhapatnam/www.dadiakp.com'), ('Damber Singh College, Gangtok', 'http://www.res.ac.in/dsc/'), ('Darbhanga Medical College, Darbhanga', 'http://www.darbhangamedicalcollege.com/'), ('Dasaratha Deb Memorial College, Khowai', 'http://www.ddmctripura.edu.in/'), ('DAV Institute Of Engineering And Technology, Daltonganj', 'http://www.davietpalamau.org/'), ('DAV Mahila College, Katrasgarh', 'https://davmm.in/'), ('Daying Ering College Of Teachers Education, Pasighat', 'https://decte.co.in/'), ('Deccan School of Pharmacy,Hyderabad', 'http://www.deccanpharmacy.com/'), ('Dev Indrawati Mahavidyalaya, Ambedkar Nagar', 'http://devindrawati.org.in/index.htm'), ('Dewan Abdul Gani College, Harirampur', 'http://dagcol.ac.in/'), ('Dhalai District Polytechnic', 'http://ddpambassa.ac.in/'), ('Dhruva College Of Management, Hyderabad', 'http://www.dhruva.ac.in/'), ('Diamond Pvt ITI, Bhoranj', 'http://www.diamonditi.com/'), ('Dibrugarh University Department of Pharmaceutical Sciences, Dibrugarh', 'https://dibru.ac.in/'), ('Directorate Of Archives And Archaeology, Government of Goa, Panaji', 'http://daa.goa.gov.in/'), ('Disha College Of Management And Technology, Berhampur', 'http://dishacollege.in/'), ('DL Reddy College, Gollalamamidala', 'http://www.dlrcollege.org/'), ('DN Jain College, Jabalpur', 'https://www.dnjaincollege.org/'), ('DNR College of Education, Bhimavaram', 'https://dnrcollege.org/en/'), ('DNR College of Law, Bhimavaram', 'http://www.dnrlawcollege.in/'), ('DNR College, Bhimavaram', 'http://www.dnrcollege.org/'), ('Dnyanprassarak Mandals College And Research Centre, Mapusa', 'http://dmscollege.ac.in/'), ('Don Bosco College Of Engineering, Margao', 'http://www.dbcegoa.ac.in/'), ('Don Bosco College Of Teacher Education, Tura', 'http://dbctetura.in/'), ('Don Bosco College, Itanagar', 'https://dbcitanagar.com/'), ('Doon Ghati College of Professional Education, Dehradun', 'https://doonghaticollege.com/index.php'), ('Dr B R Ambedkar Government Law College, Puducherry', 'https://aglc1972.edu.in/'), ('Dr B R Ambedkar Govt P G Boys College, Sriganganagar', 'https://hte.rajasthan.gov.in/college/gcganganagar'), ('Dr B R Ambedkar Institute of Technology (DBRAIT), Port Blair', 'http://dbragpt.and.nic.in/'), ('Dr B R Ambedkar Polytechnic College, Yanam', 'http://drbraptcynm.edu.in/'), ('Dr Bhim Rao Ambedkar College, New Delhi', 'https://www.drbrambedkarcollege.ac.in/'), ('Dr BR Ambedkar College Of Law, Visakhapatnam', 'https://www.drbrambedkarcollegeoflaw.com/'), ('Dr CSN Degree & PG College, Bhimavaram', 'http://www.drcsninstitutions.org/'), ('Dr H L Thimmegowda College of Pharmacy, Bangalore', 'http://www.hltcollegeofpharmacy.org/'), ('Dr KV Subba Reddy College of Engineering for Women (KVSW), Kurnool', 'http://drkvsrcew.in/'), ('Dr Lankapalli Bullayya Graduate College', 'https://bullayyacollege.org/'), ('Dr LB College, Visakhapatnam', 'https://www.bullayyacollege.org/pg-college/index.php'), ('Dr MC Saxena College Of Medical Sciences, Lucknow', 'http://www.mcscms.in/'), ('Dr MC Saxena College Of Pharmacy MCSGOC, Lucknow', 'https://www.mcsgoc.com/dr-mc-saxena-college-of-pharmacy.php'), ('DR MGR Engineering College, Chennai', 'https://www.drmgrdu.ac.in/'), ('Dr N R S Govt Ayurvedic College, Vijayawada', 'http://www.panchakarma.com/dr-n-r-shastry-government-ayurvedic-college-vijayawada-andhra-pradesh-p-183.html'), ('Dr Paul Raj Engineering College', 'http://www.dprec.ac.in/'), ('Dr Samuel George Institute of Pharmaceutical Sciences, Prakasam', 'http://www.drsgips.ac.in/'), ('Dr Shankar Dayal Sharma Smriti Mahavidyalaya, Bhopal', 'http://drsdscollegebhopal.com/'), ('Dr. Ambedkar College, Nagpur', 'http://dacn.in/'), ('Dr. R.B. Singh Gaya Homoeopathy Medical Colege & Hospital, Bodh Gaya', 'http://drrbsinghghmchgaya.org/'), ('Durama College, Tura', 'https://duramacollege.in/'), ('Durgabai Deshmukh College of Special Education, New Delhi', 'https://www.durgabaideshmukhcollege.org/index.html'), ('Eastern Dooars BEd Training College, Alipurduar', 'http://edbdtc.org.in/'), ('Eastern Institute For Integrated Learning In Management EIILM, Namchi', 'https://www.eiilm.co.in/'), ('Einstein Academy Of Technology & Management EATM, Bhubaneswar', 'https://eatm.in/'), ('Eliezer Joldan Memorial College (EJMC), Leh', 'http://www.ejmcollegeleh.in/'), ('Ettumanoorappan College, Kottayam', 'https://ettumanoorappancollege.edu.in/'), ('Everest Pvt ITI, Nirmand', 'https://everestiti.com/'), ('Everest Pvt ITI, Rampur Bushahr', 'https://everestiti.in/'), ('Faculty Of Agriculture, Govind Ballabh Pant University Of Agriculture & Technology, Pantnagar', 'http://www.gbpuat.ac.in/'), ('Faculty Of Anthropology, Andhra University, Visakhapatnam', 'https://andhrauniversity.edu.in/'), ('Faculty Of Anthropology, Sri Venkateswara University, Tirupati', 'https://www.svuniversity.edu.in/about'), ('Faculty Of Archaeology, Andhra University, Visakhapatnam', 'https://andhrauniversity.edu.in/'), ('Faculty of Nursing, Jamia Hamdard, New Delhi', 'http://jamiahamdard.edu/'), ('Fairfield Institute Of Management & Technology FIMT, New Delhi', 'http://www.fimt-ggsipu.org/'), ('Falakata BEd College, Falakata', 'https://www.falakatabedcollege.com/'), ('Falakata College, Jalpaiguri', 'http://www.falakatacollege.org.in/'), ('Footwear Design & Development Institute FDDI, Noida', 'https://www.fddiindia.com/'), ('Forest College & Research Institute (FCRI), Hyderabad', 'http://www.fcrits.in/'), ('Fr Agnel College Of Arts & Commerce, Pilar', 'https://www.fragnelcollege.edu.in/'), ('Frankfinn Institute Of Air Hostess Training, Dehradun', 'https://www.frankfinn.com/'), ('Future Institute of Technology (FIT), Garia, Kolkata', 'http://www.future-technology.in/'), ('G D Bagaria Teachers Training College, Giridih', 'http://www.gdbagariateachertrainingcollege.org/'), ('G Pulla Reddy Engineering College', 'http://www.gprec.ac.in/'), ('Galaxy Pvt ITI, Paonta Sahib', 'http://galaxyprivateiti.org/'), ('Gandhi Institute For Technology GIFT, Bhubaneswar', 'https://college.gift.edu.in/'), ('Gandhi Institute of Technology & Management', 'https://www.gitam.edu/'), ('Gate Institute of Technology And Management Sciences, Tirupati', 'http://www.gatetirupati.com/'), ('Gateway College Of Architecture And Design GCAD, Sonipat', 'https://gateway.edu.in/gcad/'), ('Gateway Institute Of Engineering & Technology GIET, Sonipat', 'https://gateway.edu.in/giet/'), ('Gateway Institute Of Hotel & Tourism Management, Sonipat', 'https://gateway.edu.in/gihm/'), ('Gayatri Degree & PG College, Tirupati', 'http://www.gayatricollege.in/'), ('Geeta Arya College Of Education, Julana', 'http://www.geetaaryacollegeofeducation.com/'), ('Geetanjali College of Pharmaceutical Studies Udaipur Rajasthan', 'https://www.geetanjaliuniversity.com/'), ('Geetanjali Institute Of Technical Studies, Udaipur', 'https://www.gits.ac.in/'), ('Geethanjali Institute of Science and Technology (GIST), Nellore', 'http://www.gist.edu.in/'), ('Ghoom Jorebunglow Degree College, Darjeeling', 'http://ghoomjorebunglowcollege.com/'), ('Global Tech Institute Of Management GTIM, New Delhi', 'https://gtim.edu.in/'), ('GMR Institute of Technology', 'http://www.gmrit.org/'), ('Goa College Of Architecture, Panaji', 'https://www.gcarch.goa.gov.in/')]\n"
          ]
        },
        {
          "output_type": "execute_result",
          "data": {
            "text/plain": [
              "58"
            ]
          },
          "metadata": {},
          "execution_count": 99
        }
      ]
    },
    {
      "cell_type": "code",
      "source": [
        "url=collegeLinks[101]\n",
        "req=requests.get(url)\n",
        "content=req.text\n",
        "# print(content)\n",
        "\n",
        "Match=re.search(\"<li><strong><i class=\\\"fa fa-map-marker\\\"></i></strong>\",content)\n",
        "# print(Match)\n",
        "\n",
        "end=content[31596]\n",
        "i=31596\n",
        "collName=''\n",
        "\n",
        "s=''\n",
        "while(s!='<'):\n",
        "  s=content[i]\n",
        "  if(s=='<'):\n",
        "    break\n",
        "  collName=collName+s\n",
        "  i=i+1\n",
        "\n",
        "print(\"College Address:\",collName)\n",
        "a.writerow([collegeNames[101],collegeLinks[101],collName,'-'])"
      ],
      "metadata": {
        "colab": {
          "base_uri": "https://localhost:8080/"
        },
        "id": "WSWBwwDDAMOk",
        "outputId": "47986ff7-f19b-40d0-bd8e-22e0f60ff98c"
      },
      "execution_count": null,
      "outputs": [
        {
          "output_type": "stream",
          "name": "stdout",
          "text": [
            "College Address: h Mile, P.O. Kalimpong, Dist. Kalimpong, India, Pin - 734301\n"
          ]
        },
        {
          "output_type": "execute_result",
          "data": {
            "text/plain": [
              "129"
            ]
          },
          "metadata": {},
          "execution_count": 100
        }
      ]
    },
    {
      "cell_type": "code",
      "source": [
        "url=collegeLinks[102]\n",
        "page = requests.get(url)\n",
        "soup = BeautifulSoup(page.content, 'html.parser')\n",
        "\n",
        "cards_data = soup.find('div',class_=\"location\").p\n",
        "print(cards_data)\n",
        "\n",
        "a.writerow([collegeNames[102],collegeLinks[102],cards_data,'-'])\n"
      ],
      "metadata": {
        "colab": {
          "base_uri": "https://localhost:8080/"
        },
        "id": "Bc5H7red8Wke",
        "outputId": "6e96a68e-543d-42a7-b232-172d18076e49"
      },
      "execution_count": null,
      "outputs": [
        {
          "output_type": "stream",
          "name": "stdout",
          "text": [
            "<p>CMR Institute of Management Studies<br>\r\n",
            "No.5, Bhuvanagiri<br/>\r\n",
            "OMBR Layout<br/>\r\n",
            "Bangalore 560043, India<br/>\r\n",
            "T: +91 80 25426944,+91 8025453077<br/>\r\n",
            "E: office.ims@cmr.ac.in</br></p>\n"
          ]
        },
        {
          "output_type": "execute_result",
          "data": {
            "text/plain": [
              "273"
            ]
          },
          "metadata": {},
          "execution_count": 101
        }
      ]
    },
    {
      "cell_type": "code",
      "source": [
        "url=collegeLinks[105]\n",
        "page = requests.get(url)\n",
        "soup = BeautifulSoup(page.content, 'html.parser')\n",
        "\n",
        "cards_data=soup.find('p',style=\"font-weight:bold;color:black;\").text\n",
        "print(cards_data)\n",
        "\n",
        "a.writerow([collegeNames[105],collegeLinks[105],cards_data,'-'])"
      ],
      "metadata": {
        "colab": {
          "base_uri": "https://localhost:8080/"
        },
        "id": "YjzUk-agw3fZ",
        "outputId": "9b0e337f-154c-4d7d-d2bf-21c3009a7078"
      },
      "execution_count": null,
      "outputs": [
        {
          "output_type": "stream",
          "name": "stdout",
          "text": [
            "\t Dean\r\n",
            "\t\t\t\t\t\t\tCollege of Fisheries CAU (I)\r\n",
            "\t\t\t\t\t\t\tLembucherra, Agartala - 799 210\r\n",
            "\t\t\t\t\t\t\tTripura, India\r\n",
            "\r\n",
            "\t\t\t\t\t\t\tTele : 0381 2865264 | Fax: 0381 2865291\r\n",
            "\t\t\t\t\t\t\tEmail: cofcau.agt-tr@gov.in / cofcau@rediffmail.com\n"
          ]
        },
        {
          "output_type": "execute_result",
          "data": {
            "text/plain": [
              "280"
            ]
          },
          "metadata": {},
          "execution_count": 102
        }
      ]
    },
    {
      "cell_type": "code",
      "source": [
        "url=collegeLinks[107]\n",
        "print(url)\n",
        "page = requests.get(url)\n",
        "soup = BeautifulSoup(page.content, 'html.parser')\n",
        "\n",
        "cards_data=soup.find('div',class_=\"col-lg-12 text-center\").text\n",
        "cards_data=cards_data[13:161]\n",
        "print(cards_data)\n",
        "\n",
        "a.writerow([collegeNames[107],collegeLinks[107],cards_data,'-'])"
      ],
      "metadata": {
        "colab": {
          "base_uri": "https://localhost:8080/"
        },
        "id": "0SadUBxHTPEU",
        "outputId": "c43e2ada-c55f-494c-d33f-3a493a43c148"
      },
      "execution_count": null,
      "outputs": [
        {
          "output_type": "stream",
          "name": "stdout",
          "text": [
            "https://andhrauniversity.edu.in/\n",
            ": Andhra University, \n",
            "\t\t\t\t\t\t\tWaltair Junction, \n",
            "\t\t\t\t\t\t\tVisakhapatnam-530003, \n",
            "\t\t\t\t\t\t\tAndhra Pradesh, INDIA.  \n",
            "\t\t\t\t\t\t\tPhone :  0891 2844000 | 2844197\n"
          ]
        },
        {
          "output_type": "execute_result",
          "data": {
            "text/plain": [
              "257"
            ]
          },
          "metadata": {},
          "execution_count": 103
        }
      ]
    },
    {
      "cell_type": "code",
      "source": [
        "url=collegeLinks[115]\n",
        "print(url)\n",
        "page = requests.get(url)\n",
        "soup = BeautifulSoup(page.content, 'html.parser')\n",
        "\n",
        "cards_data=soup.find_all('div',class_=\"row center\")\n",
        "final=cards_data[1].text\n",
        "print(final)\n",
        "\n",
        "a.writerow([collegeNames[115],collegeLinks[115],final,'-'])"
      ],
      "metadata": {
        "id": "KW50SNXVX2RJ",
        "colab": {
          "base_uri": "https://localhost:8080/"
        },
        "outputId": "83c97e3f-3ee5-463f-d436-32f700d4528a"
      },
      "execution_count": null,
      "outputs": [
        {
          "output_type": "stream",
          "name": "stdout",
          "text": [
            "https://www.indcareer.com/andhra-pradesh/visakhapatnam/www.dadiakp.com\n",
            "52, Shilpa Nagar, Somalwada, Nagpur Maharashtra - 440015.     Phone: +91 9561 204 888\n"
          ]
        },
        {
          "output_type": "execute_result",
          "data": {
            "text/plain": [
              "212"
            ]
          },
          "metadata": {},
          "execution_count": 104
        }
      ]
    },
    {
      "cell_type": "code",
      "source": [
        "url=collegeLinks[132]\n",
        "req=requests.get(url)\n",
        "content=req.text\n",
        "\n",
        "pname=soup.find('td',width=113).text\n",
        "# final=cards_data[1]\n",
        "print(\"Principal Name:\",pname)\n",
        "\n",
        "Match=re.search(\"<strong>Postal Address</strong>\",content)\n",
        "print(Match)\n",
        "\n",
        "# end=content[31596]\n",
        "# i=31596\n",
        "# collName=''\n",
        "\n",
        "# s=''\n",
        "# while(s!='<'):\n",
        "#   s=content[i]\n",
        "#   if(s=='<'):\n",
        "#     break\n",
        "#   collName=collName+s\n",
        "#   i=i+1\n",
        "\n",
        "# print(\"Address:\",cadd)\n",
        "# a.writerow([collegeNames[115],collegeLinks[115],final,'-'])\n"
      ],
      "metadata": {
        "colab": {
          "base_uri": "https://localhost:8080/"
        },
        "id": "yM3dx1xGh0ac",
        "outputId": "c9859bdb-3e2d-4a8c-a41d-3d8ea618e1a6"
      },
      "execution_count": null,
      "outputs": [
        {
          "output_type": "stream",
          "name": "stdout",
          "text": [
            "Principal Name: \n",
            "Dr. S.M.Dwivedi\n",
            "\n",
            "None\n"
          ]
        }
      ]
    },
    {
      "cell_type": "code",
      "source": [
        "\n",
        "dataframe=pd.read_csv('/content/drive/MyDrive/Web Scraping Excel File/finalData.csv')\n",
        "dataframe"
      ],
      "metadata": {
        "colab": {
          "base_uri": "https://localhost:8080/",
          "height": 314
        },
        "id": "k6vKL1XJepoQ",
        "outputId": "323d71cf-2686-4d9f-c42d-ee726f1ab208"
      },
      "execution_count": null,
      "outputs": [
        {
          "output_type": "execute_result",
          "data": {
            "text/plain": [
              "                                        COLLEGE NAME  \\\n",
              "0                    Cluny Womens College, Kalimpong   \n",
              "1  CMR Institute of Management and Technology, Ba...   \n",
              "2                  College Of Fisheries CF, Agartala   \n",
              "3  College of Science and Technology, Andhra Univ...   \n",
              "4    Dadi Veerunaidu PG College (DVNPGC), Anakapalle   \n",
              "\n",
              "                                        COLLEGE LINK  \\\n",
              "0                       http://www.clunycollege.com/   \n",
              "1                             https://ims.cmr.ac.in/   \n",
              "2                              http://cofcau.nic.in/   \n",
              "3                   https://andhrauniversity.edu.in/   \n",
              "4  https://www.indcareer.com/andhra-pradesh/visak...   \n",
              "\n",
              "                                     COLLEGE ADDRESS PRINCIPAL NAME  \n",
              "0               Dist. Kalimpong, India, Pin - 734301              -  \n",
              "1  <p>CMR Institute of Management Studies<br>\\r\\n...              -  \n",
              "2  \\t Dean\\r\\n\\t\\t\\t\\t\\t\\t\\tCollege of Fisheries ...              -  \n",
              "3  : Andhra University, \\n\\t\\t\\t\\t\\t\\t\\tWaltair J...              -  \n",
              "4  52, Shilpa Nagar, Somalwada, Nagpur Maharashtr...              -  "
            ],
            "text/html": [
              "\n",
              "  <div id=\"df-55b9a302-2412-4c94-856e-8859a03be33c\">\n",
              "    <div class=\"colab-df-container\">\n",
              "      <div>\n",
              "<style scoped>\n",
              "    .dataframe tbody tr th:only-of-type {\n",
              "        vertical-align: middle;\n",
              "    }\n",
              "\n",
              "    .dataframe tbody tr th {\n",
              "        vertical-align: top;\n",
              "    }\n",
              "\n",
              "    .dataframe thead th {\n",
              "        text-align: right;\n",
              "    }\n",
              "</style>\n",
              "<table border=\"1\" class=\"dataframe\">\n",
              "  <thead>\n",
              "    <tr style=\"text-align: right;\">\n",
              "      <th></th>\n",
              "      <th>COLLEGE NAME</th>\n",
              "      <th>COLLEGE LINK</th>\n",
              "      <th>COLLEGE ADDRESS</th>\n",
              "      <th>PRINCIPAL NAME</th>\n",
              "    </tr>\n",
              "  </thead>\n",
              "  <tbody>\n",
              "    <tr>\n",
              "      <th>0</th>\n",
              "      <td>Cluny Womens College, Kalimpong</td>\n",
              "      <td>http://www.clunycollege.com/</td>\n",
              "      <td>Dist. Kalimpong, India, Pin - 734301</td>\n",
              "      <td>-</td>\n",
              "    </tr>\n",
              "    <tr>\n",
              "      <th>1</th>\n",
              "      <td>CMR Institute of Management and Technology, Ba...</td>\n",
              "      <td>https://ims.cmr.ac.in/</td>\n",
              "      <td>&lt;p&gt;CMR Institute of Management Studies&lt;br&gt;\\r\\n...</td>\n",
              "      <td>-</td>\n",
              "    </tr>\n",
              "    <tr>\n",
              "      <th>2</th>\n",
              "      <td>College Of Fisheries CF, Agartala</td>\n",
              "      <td>http://cofcau.nic.in/</td>\n",
              "      <td>\\t Dean\\r\\n\\t\\t\\t\\t\\t\\t\\tCollege of Fisheries ...</td>\n",
              "      <td>-</td>\n",
              "    </tr>\n",
              "    <tr>\n",
              "      <th>3</th>\n",
              "      <td>College of Science and Technology, Andhra Univ...</td>\n",
              "      <td>https://andhrauniversity.edu.in/</td>\n",
              "      <td>: Andhra University, \\n\\t\\t\\t\\t\\t\\t\\tWaltair J...</td>\n",
              "      <td>-</td>\n",
              "    </tr>\n",
              "    <tr>\n",
              "      <th>4</th>\n",
              "      <td>Dadi Veerunaidu PG College (DVNPGC), Anakapalle</td>\n",
              "      <td>https://www.indcareer.com/andhra-pradesh/visak...</td>\n",
              "      <td>52, Shilpa Nagar, Somalwada, Nagpur Maharashtr...</td>\n",
              "      <td>-</td>\n",
              "    </tr>\n",
              "  </tbody>\n",
              "</table>\n",
              "</div>\n",
              "      <button class=\"colab-df-convert\" onclick=\"convertToInteractive('df-55b9a302-2412-4c94-856e-8859a03be33c')\"\n",
              "              title=\"Convert this dataframe to an interactive table.\"\n",
              "              style=\"display:none;\">\n",
              "        \n",
              "  <svg xmlns=\"http://www.w3.org/2000/svg\" height=\"24px\"viewBox=\"0 0 24 24\"\n",
              "       width=\"24px\">\n",
              "    <path d=\"M0 0h24v24H0V0z\" fill=\"none\"/>\n",
              "    <path d=\"M18.56 5.44l.94 2.06.94-2.06 2.06-.94-2.06-.94-.94-2.06-.94 2.06-2.06.94zm-11 1L8.5 8.5l.94-2.06 2.06-.94-2.06-.94L8.5 2.5l-.94 2.06-2.06.94zm10 10l.94 2.06.94-2.06 2.06-.94-2.06-.94-.94-2.06-.94 2.06-2.06.94z\"/><path d=\"M17.41 7.96l-1.37-1.37c-.4-.4-.92-.59-1.43-.59-.52 0-1.04.2-1.43.59L10.3 9.45l-7.72 7.72c-.78.78-.78 2.05 0 2.83L4 21.41c.39.39.9.59 1.41.59.51 0 1.02-.2 1.41-.59l7.78-7.78 2.81-2.81c.8-.78.8-2.07 0-2.86zM5.41 20L4 18.59l7.72-7.72 1.47 1.35L5.41 20z\"/>\n",
              "  </svg>\n",
              "      </button>\n",
              "      \n",
              "  <style>\n",
              "    .colab-df-container {\n",
              "      display:flex;\n",
              "      flex-wrap:wrap;\n",
              "      gap: 12px;\n",
              "    }\n",
              "\n",
              "    .colab-df-convert {\n",
              "      background-color: #E8F0FE;\n",
              "      border: none;\n",
              "      border-radius: 50%;\n",
              "      cursor: pointer;\n",
              "      display: none;\n",
              "      fill: #1967D2;\n",
              "      height: 32px;\n",
              "      padding: 0 0 0 0;\n",
              "      width: 32px;\n",
              "    }\n",
              "\n",
              "    .colab-df-convert:hover {\n",
              "      background-color: #E2EBFA;\n",
              "      box-shadow: 0px 1px 2px rgba(60, 64, 67, 0.3), 0px 1px 3px 1px rgba(60, 64, 67, 0.15);\n",
              "      fill: #174EA6;\n",
              "    }\n",
              "\n",
              "    [theme=dark] .colab-df-convert {\n",
              "      background-color: #3B4455;\n",
              "      fill: #D2E3FC;\n",
              "    }\n",
              "\n",
              "    [theme=dark] .colab-df-convert:hover {\n",
              "      background-color: #434B5C;\n",
              "      box-shadow: 0px 1px 3px 1px rgba(0, 0, 0, 0.15);\n",
              "      filter: drop-shadow(0px 1px 2px rgba(0, 0, 0, 0.3));\n",
              "      fill: #FFFFFF;\n",
              "    }\n",
              "  </style>\n",
              "\n",
              "      <script>\n",
              "        const buttonEl =\n",
              "          document.querySelector('#df-55b9a302-2412-4c94-856e-8859a03be33c button.colab-df-convert');\n",
              "        buttonEl.style.display =\n",
              "          google.colab.kernel.accessAllowed ? 'block' : 'none';\n",
              "\n",
              "        async function convertToInteractive(key) {\n",
              "          const element = document.querySelector('#df-55b9a302-2412-4c94-856e-8859a03be33c');\n",
              "          const dataTable =\n",
              "            await google.colab.kernel.invokeFunction('convertToInteractive',\n",
              "                                                     [key], {});\n",
              "          if (!dataTable) return;\n",
              "\n",
              "          const docLinkHtml = 'Like what you see? Visit the ' +\n",
              "            '<a target=\"_blank\" href=https://colab.research.google.com/notebooks/data_table.ipynb>data table notebook</a>'\n",
              "            + ' to learn more about interactive tables.';\n",
              "          element.innerHTML = '';\n",
              "          dataTable['output_type'] = 'display_data';\n",
              "          await google.colab.output.renderOutput(dataTable, element);\n",
              "          const docLink = document.createElement('div');\n",
              "          docLink.innerHTML = docLinkHtml;\n",
              "          element.appendChild(docLink);\n",
              "        }\n",
              "      </script>\n",
              "    </div>\n",
              "  </div>\n",
              "  "
            ]
          },
          "metadata": {},
          "execution_count": 105
        }
      ]
    }
  ]
}